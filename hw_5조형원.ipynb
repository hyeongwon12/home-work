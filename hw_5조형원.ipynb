{
  "nbformat": 4,
  "nbformat_minor": 0,
  "metadata": {
    "colab": {
      "name": "hw-5조형원.ipynb",
      "provenance": [],
      "authorship_tag": "ABX9TyOu7mlzcsW9rz8tuuErMrb0",
      "include_colab_link": true
    },
    "kernelspec": {
      "name": "python3",
      "display_name": "Python 3"
    },
    "language_info": {
      "name": "python"
    }
  },
  "cells": [
    {
      "cell_type": "markdown",
      "metadata": {
        "id": "view-in-github",
        "colab_type": "text"
      },
      "source": [
        "<a href=\"https://colab.research.google.com/github/hyeongwon12/home-work/blob/main/hw_5%EC%A1%B0%ED%98%95%EC%9B%90.ipynb\" target=\"_parent\"><img src=\"https://colab.research.google.com/assets/colab-badge.svg\" alt=\"Open In Colab\"/></a>"
      ]
    },
    {
      "cell_type": "code",
      "execution_count": 2,
      "metadata": {
        "colab": {
          "base_uri": "https://localhost:8080/",
          "height": 211
        },
        "id": "Us3xskt6cE8s",
        "outputId": "2d397e72-164c-42fc-dce2-14a02c9542e2"
      },
      "outputs": [
        {
          "output_type": "error",
          "ename": "NameError",
          "evalue": "ignored",
          "traceback": [
            "\u001b[0;31m---------------------------------------------------------------------------\u001b[0m",
            "\u001b[0;31mNameError\u001b[0m                                 Traceback (most recent call last)",
            "\u001b[0;32m<ipython-input-2-2e3f8daf2ea6>\u001b[0m in \u001b[0;36m<module>\u001b[0;34m()\u001b[0m\n\u001b[1;32m      3\u001b[0m  \u001b[0mresult\u001b[0m \u001b[0;34m=\u001b[0m \u001b[0mn\u001b[0m \u001b[0;34m+\u001b[0m \u001b[0;36m1\u001b[0m\u001b[0;34m\u001b[0m\u001b[0;34m\u001b[0m\u001b[0m\n\u001b[1;32m      4\u001b[0m \u001b[0mn_plus_1\u001b[0m\u001b[0;34m(\u001b[0m\u001b[0;36m3\u001b[0m\u001b[0;34m)\u001b[0m\u001b[0;34m\u001b[0m\u001b[0;34m\u001b[0m\u001b[0m\n\u001b[0;32m----> 5\u001b[0;31m \u001b[0mprint\u001b[0m\u001b[0;34m(\u001b[0m\u001b[0mresult\u001b[0m\u001b[0;34m)\u001b[0m\u001b[0;34m\u001b[0m\u001b[0;34m\u001b[0m\u001b[0m\n\u001b[0m",
            "\u001b[0;31mNameError\u001b[0m: name 'result' is not defined"
          ]
        }
      ],
      "source": [
        "# 231\n",
        "def n_plus_1 (n) :\n",
        " result = n + 1\n",
        "n_plus_1(3)\n",
        "print(result)\n",
        "#result는 내부에 정의되어 글로벌프레임에 적용되지않는다"
      ]
    },
    {
      "cell_type": "code",
      "source": [
        "# 232\n",
        "def make_ulr(m):\n",
        "  print(f'www.{m}.com')\n",
        "make_ulr('naver')"
      ],
      "metadata": {
        "colab": {
          "base_uri": "https://localhost:8080/"
        },
        "id": "SmoSI7JPcL9J",
        "outputId": "e39f54b7-d98c-4785-ba72-a42e166fc21b"
      },
      "execution_count": 5,
      "outputs": [
        {
          "output_type": "stream",
          "name": "stdout",
          "text": [
            "www.naver.com\n"
          ]
        }
      ]
    },
    {
      "cell_type": "code",
      "source": [
        "# 233\n",
        "def make_list(a):\n",
        "   print(list(a))\n",
        "\n",
        "make_list('abcdef')\n",
        " "
      ],
      "metadata": {
        "colab": {
          "base_uri": "https://localhost:8080/"
        },
        "id": "GJqEcFAZcMIR",
        "outputId": "0b0fc693-f0e2-4547-b9c5-da00ccbfe880"
      },
      "execution_count": 8,
      "outputs": [
        {
          "output_type": "stream",
          "name": "stdout",
          "text": [
            "['a', 'b', 'c', 'd', 'e', 'f']\n"
          ]
        }
      ]
    },
    {
      "cell_type": "code",
      "source": [
        "# 234\n",
        "def pickup_even(a):\n",
        "  li = []\n",
        "  for i in a:\n",
        "    if i%2==0:\n",
        "      li.append(i)\n",
        "  print(li)\n",
        "pickup_even([1,2,3,4,5,6,7,8,9])"
      ],
      "metadata": {
        "colab": {
          "base_uri": "https://localhost:8080/"
        },
        "id": "Tr_hJ1Kwd0nh",
        "outputId": "d7fb9bc2-32a0-4085-d031-da60e2e91f0c"
      },
      "execution_count": 12,
      "outputs": [
        {
          "output_type": "stream",
          "name": "stdout",
          "text": [
            "[2, 4, 6, 8]\n"
          ]
        }
      ]
    },
    {
      "cell_type": "code",
      "source": [
        "# 235\n",
        "def convert_int(a):\n",
        "  print(a.replace(',',''))\n",
        "convert_int('1,2,3,4,5')"
      ],
      "metadata": {
        "colab": {
          "base_uri": "https://localhost:8080/"
        },
        "id": "pAd_V2wtfwwi",
        "outputId": "af02c837-be34-4f8a-c98e-c18e596d4475"
      },
      "execution_count": 16,
      "outputs": [
        {
          "output_type": "stream",
          "name": "stdout",
          "text": [
            "12345\n"
          ]
        }
      ]
    },
    {
      "cell_type": "code",
      "source": [
        "# 236\n",
        "def 함수(num) :\n",
        " return num + 4\n",
        "a = 함수(10)\n",
        "b = 함수(a)\n",
        "c = 함수(b)\n",
        "print(c)\n",
        "#22"
      ],
      "metadata": {
        "colab": {
          "base_uri": "https://localhost:8080/"
        },
        "id": "sUtoQeGogFTh",
        "outputId": "643f0c8f-5ef0-4d53-e18c-9aeb179ca060"
      },
      "execution_count": 17,
      "outputs": [
        {
          "output_type": "stream",
          "name": "stdout",
          "text": [
            "22\n"
          ]
        }
      ]
    },
    {
      "cell_type": "code",
      "source": [
        "# 237\n",
        "def 함수(num) :\n",
        " return num + 4\n",
        "c = 함수(함수(함수(10)))\n",
        "print(c)\n",
        "#22"
      ],
      "metadata": {
        "colab": {
          "base_uri": "https://localhost:8080/"
        },
        "id": "P107qTaIgVdP",
        "outputId": "fa2e9c12-e4b3-48ee-9d60-9d9bd2405d80"
      },
      "execution_count": 18,
      "outputs": [
        {
          "output_type": "stream",
          "name": "stdout",
          "text": [
            "22\n"
          ]
        }
      ]
    },
    {
      "cell_type": "code",
      "source": [
        "# 238\n",
        "def 함수1(num) :\n",
        " return num + 4\n",
        "def 함수2(num) :\n",
        " return num * 10\n",
        "a = 함수1(10)\n",
        "c = 함수2(a)\n",
        "print(c)\n",
        "#140"
      ],
      "metadata": {
        "colab": {
          "base_uri": "https://localhost:8080/"
        },
        "id": "ZCCtMoWdgdAr",
        "outputId": "5baa2aba-d0e6-4242-bbae-0f31c136230b"
      },
      "execution_count": 19,
      "outputs": [
        {
          "output_type": "stream",
          "name": "stdout",
          "text": [
            "140\n"
          ]
        }
      ]
    },
    {
      "cell_type": "code",
      "source": [
        "# 239\n",
        "def 함수1(num) :\n",
        " return num + 4\n",
        "def 함수2(num) :\n",
        " num = num + 2\n",
        " return 함수1(num)\n",
        "c = 함수2(10)\n",
        "print(c)\n",
        "#16"
      ],
      "metadata": {
        "colab": {
          "base_uri": "https://localhost:8080/"
        },
        "id": "DF2_p1R4gp6O",
        "outputId": "e54d8d37-70e7-41d9-b6b2-18b297c85a29"
      },
      "execution_count": 20,
      "outputs": [
        {
          "output_type": "stream",
          "name": "stdout",
          "text": [
            "16\n"
          ]
        }
      ]
    },
    {
      "cell_type": "code",
      "source": [
        "# 240\n",
        "def 함수0(num) :\n",
        " return num * 2\n",
        "\n",
        "def 함수1(num) :\n",
        " return 함수0(num + 2)\n",
        "\n",
        "def 함수2(num) :\n",
        "  num = num + 10\n",
        "  return 함수1(num)\n",
        "\n",
        "c = 함수2(2)\n",
        "\n",
        "print(c)\n",
        "#28"
      ],
      "metadata": {
        "colab": {
          "base_uri": "https://localhost:8080/"
        },
        "id": "WijXzW4Ng0Sn",
        "outputId": "5e0f5fb0-dbff-431b-c406-04d40ad2e374"
      },
      "execution_count": 2,
      "outputs": [
        {
          "output_type": "stream",
          "name": "stdout",
          "text": [
            "28\n"
          ]
        }
      ]
    },
    {
      "cell_type": "code",
      "source": [
        "# 291\n",
        "file = open('C:/Users/guddn/Desktop/매수1.txt','wt')\n",
        "file.write('005930\\n'\n",
        "           '005380\\n'\n",
        "           '035420')\n",
        "file.close()"
      ],
      "metadata": {
        "id": "Q4WVrsGJhj66"
      },
      "execution_count": null,
      "outputs": []
    },
    {
      "cell_type": "code",
      "source": [
        "# 292\n",
        "file = open('C:/Users/guddn/Desktop/매수2.txt','wt')\n",
        "file.write('005930 삼성전자\\n''005380 현대차\\n''035420 naver')\n",
        "file.close()\n",
        "\n"
      ],
      "metadata": {
        "id": "yxFezKEWFq1i"
      },
      "execution_count": 20,
      "outputs": []
    },
    {
      "cell_type": "code",
      "source": [
        "# 293\n",
        "import csv\n",
        "file = open('C:/Users/guddn/Desktop/매수종목1.csv','wt',encoding='cp949')\n",
        "\n",
        "line = csv.writer(file)\n",
        "line.writerow([\"종목명\", \"종목코드\", \"PER\"])\n",
        "line.writerow([\"삼성전자\", \"005930\", 15.59])\n",
        "line.writerow([\"NAVER\", \"035420\", 55.82])\n"
      ],
      "metadata": {
        "id": "4Ytai12SGk0U"
      },
      "execution_count": null,
      "outputs": []
    },
    {
      "cell_type": "code",
      "source": [
        "# 294\n",
        "file = open('C:/Users/guddn/Desktop/매수.txt','rt')\n",
        "codename=[]\n",
        "lines=file.readlines()\n",
        "for i in lines:\n",
        " i=i.strip()\n",
        " codename.append(i)\n",
        "print(codename)   \n"
      ],
      "metadata": {
        "id": "R-NlA3sZUGfa"
      },
      "execution_count": null,
      "outputs": []
    },
    {
      "cell_type": "code",
      "source": [
        "# 295\n",
        "file = open('C:/Users/guddn/Desktop/매수2.txt','rt')\n",
        "lines = file.readlines()\n",
        "dic = {}\n",
        "for i in lines:\n",
        "  i=i.strip()\n",
        "  key,value=i.split()\n",
        "  dic[key]=value\n",
        "print(dic)\n",
        "  "
      ],
      "metadata": {
        "id": "d4sotl9HlfeR"
      },
      "execution_count": null,
      "outputs": []
    },
    {
      "cell_type": "code",
      "source": [
        "# 296\n",
        "per = [\"10.31\", \"\", \"8.00\"]\n",
        "\n",
        "for i in per:\n",
        "    try:\n",
        "        print(float(i))\n",
        "    except:\n",
        "        print(0)"
      ],
      "metadata": {
        "colab": {
          "base_uri": "https://localhost:8080/"
        },
        "id": "p0PYIeZey874",
        "outputId": "70e5d9b9-10c1-4a23-8145-120bc4070762"
      },
      "execution_count": 11,
      "outputs": [
        {
          "output_type": "stream",
          "name": "stdout",
          "text": [
            "10.31\n",
            "0\n",
            "8.0\n"
          ]
        }
      ]
    },
    {
      "cell_type": "code",
      "source": [
        "# 297\n",
        "per = [\"10.31\", \"\", \"8.00\"]\n",
        "new = []\n",
        "for i in per:\n",
        "    try:\n",
        "        i=float(i)\n",
        "    except:\n",
        "        i=0\n",
        "    new.append(i)\n",
        "\n",
        "print(new)     "
      ],
      "metadata": {
        "colab": {
          "base_uri": "https://localhost:8080/"
        },
        "id": "aJnSkgtwy-t2",
        "outputId": "ab910ba0-346a-47cf-c718-f108c3ff1b71"
      },
      "execution_count": 12,
      "outputs": [
        {
          "output_type": "stream",
          "name": "stdout",
          "text": [
            "[10.31, 0, 8.0]\n"
          ]
        }
      ]
    },
    {
      "cell_type": "code",
      "source": [
        "# 298\n",
        "try:\n",
        "    a = 1/0\n",
        "except ZeroDivisionError:\n",
        "    print('x')"
      ],
      "metadata": {
        "colab": {
          "base_uri": "https://localhost:8080/"
        },
        "id": "wKkiogyRy_ar",
        "outputId": "86722a34-f0cd-4789-fac0-5cc509901340"
      },
      "execution_count": 17,
      "outputs": [
        {
          "output_type": "stream",
          "name": "stdout",
          "text": [
            "x\n"
          ]
        }
      ]
    },
    {
      "cell_type": "code",
      "source": [
        "# 299\n",
        "\n",
        "data = [1, 2, 3]\n",
        "\n",
        "for i in range(5):\n",
        "  try:  \n",
        "    print(data[i])\n",
        "  except IndexError as a:\n",
        "    print(a)\n"
      ],
      "metadata": {
        "colab": {
          "base_uri": "https://localhost:8080/"
        },
        "id": "B7mkNXYOy_7J",
        "outputId": "89710de4-ff1c-48a7-ae70-484d27ff3aa0"
      },
      "execution_count": 15,
      "outputs": [
        {
          "output_type": "stream",
          "name": "stdout",
          "text": [
            "1\n",
            "2\n",
            "3\n",
            "list index out of range\n",
            "list index out of range\n"
          ]
        }
      ]
    },
    {
      "cell_type": "code",
      "source": [
        "# 300\n",
        "per = [\"10.31\", \"\", \"8.00\"]\n",
        "\n",
        "for i in per:\n",
        "    try:\n",
        "     print(float(i))\n",
        "    except:\n",
        "     print(0)\n",
        "    else:\n",
        "     print('b')\n",
        "    finally:\n",
        "     print('a')"
      ],
      "metadata": {
        "colab": {
          "base_uri": "https://localhost:8080/"
        },
        "id": "8pVKSA2WzApA",
        "outputId": "d3cebce6-c626-46f6-cdca-e3d4b52cc301"
      },
      "execution_count": 19,
      "outputs": [
        {
          "output_type": "stream",
          "name": "stdout",
          "text": [
            "10.31\n",
            "b\n",
            "a\n",
            "0\n",
            "a\n",
            "8.0\n",
            "b\n",
            "a\n"
          ]
        }
      ]
    }
  ]
}