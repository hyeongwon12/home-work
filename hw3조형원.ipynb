{
  "nbformat": 4,
  "nbformat_minor": 0,
  "metadata": {
    "colab": {
      "name": "hw3조형원.ipynb",
      "provenance": [],
      "collapsed_sections": [],
      "authorship_tag": "ABX9TyMrnHidj0SfjDq1vv0Mf2A3",
      "include_colab_link": true
    },
    "kernelspec": {
      "name": "python3",
      "display_name": "Python 3"
    },
    "language_info": {
      "name": "python"
    }
  },
  "cells": [
    {
      "cell_type": "markdown",
      "metadata": {
        "id": "view-in-github",
        "colab_type": "text"
      },
      "source": [
        "<a href=\"https://colab.research.google.com/github/hyeongwon12/home-work/blob/main/hw3%EC%A1%B0%ED%98%95%EC%9B%90.ipynb\" target=\"_parent\"><img src=\"https://colab.research.google.com/assets/colab-badge.svg\" alt=\"Open In Colab\"/></a>"
      ]
    },
    {
      "cell_type": "code",
      "execution_count": 10,
      "metadata": {
        "colab": {
          "base_uri": "https://localhost:8080/"
        },
        "id": "cmi3wvN-f0mC",
        "outputId": "e5295d87-ac83-4702-83a6-9a42abddefe9"
      },
      "outputs": [
        {
          "output_type": "stream",
          "name": "stdout",
          "text": [
            "{'메로나': [300, 20], '비비빅': [400, 3], '죠스바': [250, 100]}\n"
          ]
        }
      ],
      "source": [
        "# 091\n",
        "inventory = {\"메로나\":[300,20],\n",
        "             \"비비빅\":[400,3],\n",
        "             \"죠스바\":[250,100]}\n",
        "print(inventory)"
      ]
    },
    {
      "cell_type": "code",
      "source": [
        "# 092\n",
        "inventory = {\"메로나\":[300,20],\n",
        "             \"비비빅\":[400,3],\n",
        "             \"죠스바\":[250,100]}\n",
        "print(inventory[\"메로나\"][0])"
      ],
      "metadata": {
        "colab": {
          "base_uri": "https://localhost:8080/"
        },
        "id": "FCbDjfZghoO1",
        "outputId": "a4ed0f8a-8fde-49f6-c696-351c6f4162bf"
      },
      "execution_count": 16,
      "outputs": [
        {
          "output_type": "stream",
          "name": "stdout",
          "text": [
            "300\n"
          ]
        }
      ]
    },
    {
      "cell_type": "code",
      "source": [
        "# 093\n",
        "inventory = {\"메로나\": [300, 20],\n",
        "              \"비비빅\": [400, 3],\n",
        "              \"죠스바\": [250, 100]}\n",
        "print(inventory[\"메로나\"][1],'개')"
      ],
      "metadata": {
        "colab": {
          "base_uri": "https://localhost:8080/"
        },
        "id": "uMOl7k6aiYt4",
        "outputId": "61afde04-87f3-469f-9ed8-5e22f022e02f"
      },
      "execution_count": 17,
      "outputs": [
        {
          "output_type": "stream",
          "name": "stdout",
          "text": [
            "20 개\n"
          ]
        }
      ]
    },
    {
      "cell_type": "code",
      "source": [
        "# 094\n",
        "inventory = {\"메로나\": [300, 20],\n",
        "              \"비비빅\": [400, 3],\n",
        "              \"죠스바\": [250, 100]}\n",
        "inventory['월드콘']=[500,7]\n",
        "print(inventory)"
      ],
      "metadata": {
        "colab": {
          "base_uri": "https://localhost:8080/"
        },
        "id": "OQGPKywtihdG",
        "outputId": "6cba3d50-0b41-4b8a-d6d0-d02c6413029f"
      },
      "execution_count": 43,
      "outputs": [
        {
          "output_type": "stream",
          "name": "stdout",
          "text": [
            "{'메로나': [300, 20], '비비빅': [400, 3], '죠스바': [250, 100], '월드콘': [500, 7]}\n"
          ]
        }
      ]
    },
    {
      "cell_type": "code",
      "source": [
        "inventory = {\"메로나\": [300, 20],\n",
        "              \"비비빅\": [400, 3],\n",
        "              \"죠스바\": [250, 100]}\n",
        "inventory1={'월드콘':[500,7]}\n",
        "inventory.update(inventory1)\n",
        "print(inventory)"
      ],
      "metadata": {
        "colab": {
          "base_uri": "https://localhost:8080/"
        },
        "id": "rKCOmjIPmlPy",
        "outputId": "8f32c9b9-3fe7-465e-9928-4dfee3fb592f"
      },
      "execution_count": 42,
      "outputs": [
        {
          "output_type": "stream",
          "name": "stdout",
          "text": [
            "{'메로나': [300, 20], '비비빅': [400, 3], '죠스바': [250, 100], '월드콘': [500, 7]}\n"
          ]
        }
      ]
    },
    {
      "cell_type": "code",
      "source": [
        "# 095\n",
        "icecream = {'탱크보이': 1200, '폴라포': 1200, '빵빠레': 1800, '월드콘': 1500, '메로나': 1000}\n",
        "i = list(icecream.keys())\n",
        "print(i)"
      ],
      "metadata": {
        "colab": {
          "base_uri": "https://localhost:8080/"
        },
        "id": "nLvsDdV2juul",
        "outputId": "ab6a5e23-5650-4084-beb6-76ebc57a1a02"
      },
      "execution_count": 26,
      "outputs": [
        {
          "output_type": "stream",
          "name": "stdout",
          "text": [
            "['탱크보이', '폴라포', '빵빠레', '월드콘', '메로나']\n"
          ]
        }
      ]
    },
    {
      "cell_type": "code",
      "source": [
        "# 096 \n",
        "icecream = {'탱크보이': 1200, '폴라포': 1200, '빵빠레': 1800, '월드콘': 1500, '메로나': 1000}\n",
        "p = list(icecream.values())\n",
        "print(p)"
      ],
      "metadata": {
        "colab": {
          "base_uri": "https://localhost:8080/"
        },
        "id": "_B-uWQqIkOoP",
        "outputId": "475014f4-0b61-4904-c7a8-ac3a19399083"
      },
      "execution_count": 28,
      "outputs": [
        {
          "output_type": "stream",
          "name": "stdout",
          "text": [
            "[1200, 1200, 1800, 1500, 1000]\n"
          ]
        }
      ]
    },
    {
      "cell_type": "code",
      "source": [
        "# 097\n",
        "icecream = {'탱크보이': 1200, '폴라포': 1200, '빵빠레': 1800, '월드콘': 1500, '메로나': 1000}\n",
        "p = list(icecream.values())\n",
        "sum=0\n",
        "for i in range(len(icecream)):\n",
        "  sum+=p[i]\n",
        "print(sum)"
      ],
      "metadata": {
        "colab": {
          "base_uri": "https://localhost:8080/"
        },
        "id": "ZGtsMl46ksFu",
        "outputId": "060628be-946f-44e7-c7eb-4343a5001b77"
      },
      "execution_count": 37,
      "outputs": [
        {
          "output_type": "stream",
          "name": "stdout",
          "text": [
            "6700\n"
          ]
        }
      ]
    },
    {
      "cell_type": "code",
      "source": [
        "del sum\n",
        "icecream = {'탱크보이': 1200, '폴라포': 1200, '빵빠레': 1800, '월드콘': 1500, '메로나': 1000}\n",
        "print(sum(icecream.values()))"
      ],
      "metadata": {
        "colab": {
          "base_uri": "https://localhost:8080/"
        },
        "id": "u0rgkYZ5lk40",
        "outputId": "56eff73b-9d68-4139-8673-40bc28022e16"
      },
      "execution_count": 39,
      "outputs": [
        {
          "output_type": "stream",
          "name": "stdout",
          "text": [
            "6700\n"
          ]
        }
      ]
    },
    {
      "cell_type": "code",
      "source": [
        "# 098\n",
        "icecream = {'탱크보이': 1200, '폴라포': 1200, '빵빠레': 1800, '월드콘': 1500, '메로나': 1000}\n",
        "new_product = {'팥빙수':2700, '아맛나':1000}\n",
        "icecream['팥빙수']=[2700]\n",
        "icecream['아맛나']=[1000]\n",
        "print(icecream)"
      ],
      "metadata": {
        "colab": {
          "base_uri": "https://localhost:8080/"
        },
        "id": "6LcyL707l8CT",
        "outputId": "54a98cd3-439b-40a8-b9cd-21a6a5ef156c"
      },
      "execution_count": 40,
      "outputs": [
        {
          "output_type": "stream",
          "name": "stdout",
          "text": [
            "{'탱크보이': 1200, '폴라포': 1200, '빵빠레': 1800, '월드콘': 1500, '메로나': 1000, '팥빙수': [2700], '아맛나': [1000]}\n"
          ]
        }
      ]
    },
    {
      "cell_type": "code",
      "source": [
        "icecream = {'탱크보이': 1200, '폴라포': 1200, '빵빠레': 1800, '월드콘': 1500, '메로나': 1000}\n",
        "new_product = {'팥빙수':2700, '아맛나':1000}\n",
        "icecream.update(new_product)\n",
        "print(icecream)"
      ],
      "metadata": {
        "colab": {
          "base_uri": "https://localhost:8080/"
        },
        "id": "kOu7tNC2mOm4",
        "outputId": "8dd94866-f788-467b-8c91-b2811ec74744"
      },
      "execution_count": 41,
      "outputs": [
        {
          "output_type": "stream",
          "name": "stdout",
          "text": [
            "{'탱크보이': 1200, '폴라포': 1200, '빵빠레': 1800, '월드콘': 1500, '메로나': 1000, '팥빙수': 2700, '아맛나': 1000}\n"
          ]
        }
      ]
    },
    {
      "cell_type": "code",
      "source": [
        "# 099\n",
        "keys = (\"apple\", \"pear\", \"peach\")\n",
        "vals = (300, 250, 400)\n",
        "a= dict(zip(keys,vals))\n",
        "print(a)"
      ],
      "metadata": {
        "colab": {
          "base_uri": "https://localhost:8080/"
        },
        "id": "52kuxPrvmwQf",
        "outputId": "cb55aaee-6d31-4d43-acf0-07b6f25c4960"
      },
      "execution_count": 45,
      "outputs": [
        {
          "output_type": "stream",
          "name": "stdout",
          "text": [
            "{'apple': 300, 'pear': 250, 'peach': 400}\n"
          ]
        }
      ]
    },
    {
      "cell_type": "code",
      "source": [
        "# 100\n",
        "date = ['09/05', '09/06', '09/07', '09/08', '09/09']\n",
        "close_price = [10500, 10300, 10100, 10800, 11000]\n",
        "close_table= dict(zip(date,close_price))\n",
        "print(close_table)"
      ],
      "metadata": {
        "colab": {
          "base_uri": "https://localhost:8080/"
        },
        "id": "DFa5-wJyoJhF",
        "outputId": "214ea658-f09b-4fc1-d1cf-ed191c63f332"
      },
      "execution_count": 48,
      "outputs": [
        {
          "output_type": "stream",
          "name": "stdout",
          "text": [
            "{'09/05': 10500, '09/06': 10300, '09/07': 10100, '09/08': 10800, '09/09': 11000}\n"
          ]
        }
      ]
    },
    {
      "cell_type": "code",
      "source": [
        "# 151\n",
        "리스트 = [3, -20, -3, 44]\n",
        "for i in 리스트:\n",
        "  if i<0:\n",
        "    print(i)"
      ],
      "metadata": {
        "colab": {
          "base_uri": "https://localhost:8080/"
        },
        "id": "xCkG17-UoaQ_",
        "outputId": "6387d222-ad15-441c-b920-f7df99e6650d"
      },
      "execution_count": 50,
      "outputs": [
        {
          "output_type": "stream",
          "name": "stdout",
          "text": [
            "-20\n",
            "-3\n"
          ]
        }
      ]
    },
    {
      "cell_type": "code",
      "source": [
        "# 152\n",
        "리스트 = [3, 100, 23, 44]\n",
        "for i in 리스트:\n",
        "  if i%3==0:\n",
        "   print(i)"
      ],
      "metadata": {
        "colab": {
          "base_uri": "https://localhost:8080/"
        },
        "id": "L6Vy0Axlo5Cc",
        "outputId": "aaa78186-db5a-4655-9ec8-959212f887fa"
      },
      "execution_count": 52,
      "outputs": [
        {
          "output_type": "stream",
          "name": "stdout",
          "text": [
            "3\n"
          ]
        }
      ]
    },
    {
      "cell_type": "code",
      "source": [
        "# 153\n",
        "리스트 = [13, 21, 12, 14, 30, 18]\n",
        "for i in 리스트:\n",
        " if i%3==0 and i<20:\n",
        "   print(i)"
      ],
      "metadata": {
        "colab": {
          "base_uri": "https://localhost:8080/"
        },
        "id": "NJMrS5dgpE2W",
        "outputId": "6bd61d68-726a-4c90-c466-83a9db7188ed"
      },
      "execution_count": 53,
      "outputs": [
        {
          "output_type": "stream",
          "name": "stdout",
          "text": [
            "12\n",
            "18\n"
          ]
        }
      ]
    },
    {
      "cell_type": "code",
      "source": [
        "# 154\n",
        "리스트 = [\"I\", \"study\", \"python\", \"language\", \"!\"]\n",
        "for i in 리스트:\n",
        "  if len(i)>=3:\n",
        "    print(i)"
      ],
      "metadata": {
        "colab": {
          "base_uri": "https://localhost:8080/"
        },
        "id": "VISGPHBapPJz",
        "outputId": "99b1ba9f-d588-44c4-8356-96fde9ab77e1"
      },
      "execution_count": 55,
      "outputs": [
        {
          "output_type": "stream",
          "name": "stdout",
          "text": [
            "study\n",
            "python\n",
            "language\n"
          ]
        }
      ]
    },
    {
      "cell_type": "code",
      "source": [
        "# 155\n",
        "리스트 = [\"A\", \"b\", \"c\", \"D\"]\n",
        "for i in 리스트 :\n",
        "  if i.isupper()==True:\n",
        "   print(i)"
      ],
      "metadata": {
        "colab": {
          "base_uri": "https://localhost:8080/"
        },
        "id": "MaUQf1k7prf8",
        "outputId": "15d216cc-bc5b-4cc1-d359-d50513efdec2"
      },
      "execution_count": 57,
      "outputs": [
        {
          "output_type": "stream",
          "name": "stdout",
          "text": [
            "A\n",
            "D\n"
          ]
        }
      ]
    },
    {
      "cell_type": "code",
      "source": [
        "# 156\n",
        "리스트 = [\"A\", \"b\", \"c\", \"D\"]\n",
        "for i in 리스트 :\n",
        "  if i.isupper()!=True:\n",
        "   print(i)"
      ],
      "metadata": {
        "colab": {
          "base_uri": "https://localhost:8080/"
        },
        "id": "5hlKyjjxqMUQ",
        "outputId": "ce9ceb04-31eb-4935-838e-b511bfca32f1"
      },
      "execution_count": 61,
      "outputs": [
        {
          "output_type": "stream",
          "name": "stdout",
          "text": [
            "b\n",
            "c\n"
          ]
        }
      ]
    },
    {
      "cell_type": "code",
      "source": [
        "리스트 = [\"A\", \"b\", \"c\", \"D\"]\n",
        "for i in 리스트 :\n",
        "  if i.islower()==True:\n",
        "   print(i)"
      ],
      "metadata": {
        "colab": {
          "base_uri": "https://localhost:8080/"
        },
        "id": "T5L3rmNiqDCW",
        "outputId": "06d6ff96-d8cc-44dd-93d2-4979630436ce"
      },
      "execution_count": 65,
      "outputs": [
        {
          "output_type": "stream",
          "name": "stdout",
          "text": [
            "b\n",
            "c\n"
          ]
        }
      ]
    },
    {
      "cell_type": "code",
      "source": [
        "# 157\n",
        "리스트 = ['dog', 'cat', 'parrot']\n",
        "\n",
        "for i in 리스트:\n",
        " print(i[0].upper()+i[1:])"
      ],
      "metadata": {
        "colab": {
          "base_uri": "https://localhost:8080/"
        },
        "id": "VoW8bWbCqbcR",
        "outputId": "15c2d88d-4905-46ef-d411-835968fb4e36"
      },
      "execution_count": 68,
      "outputs": [
        {
          "output_type": "stream",
          "name": "stdout",
          "text": [
            "Dog\n",
            "Cat\n",
            "Parrot\n"
          ]
        }
      ]
    },
    {
      "cell_type": "code",
      "source": [
        "# 158\n",
        "리스트 = ['hello.py', 'ex01.py', 'intro.hwp']\n",
        "for i in 리스트:\n",
        "  a = i.split('.')\n",
        "  print(a[0])"
      ],
      "metadata": {
        "colab": {
          "base_uri": "https://localhost:8080/"
        },
        "id": "bDuA6NbnrSk5",
        "outputId": "a6efe7ac-90b0-4e72-9a03-d68cdc8a4166"
      },
      "execution_count": 76,
      "outputs": [
        {
          "output_type": "stream",
          "name": "stdout",
          "text": [
            "hello\n",
            "ex01\n",
            "intro\n"
          ]
        }
      ]
    },
    {
      "cell_type": "code",
      "source": [
        "# 159\n",
        "리스트 = ['intra.h', 'intra.c', 'define.h', 'run.py']\n",
        "for i in 리스트:\n",
        "  if i[-2:]=='.h':\n",
        "    print(i)\n"
      ],
      "metadata": {
        "colab": {
          "base_uri": "https://localhost:8080/"
        },
        "id": "0jT9Kp1NsT54",
        "outputId": "6a2d998b-58bf-4e50-bd1b-58be7e6039f4"
      },
      "execution_count": 85,
      "outputs": [
        {
          "output_type": "stream",
          "name": "stdout",
          "text": [
            "intra.h\n",
            "define.h\n"
          ]
        }
      ]
    },
    {
      "cell_type": "code",
      "source": [
        "리스트 = ['intra.h', 'intra.c', 'define.h', 'run.py']\n",
        "for i in 리스트:\n",
        "  a=i.split('.')\n",
        "  if a[1]=='h':\n",
        "    print(i)"
      ],
      "metadata": {
        "colab": {
          "base_uri": "https://localhost:8080/"
        },
        "id": "G3qpmkZPtQMZ",
        "outputId": "8ef35907-83a6-4f43-da67-2a80e98d3d6c"
      },
      "execution_count": 86,
      "outputs": [
        {
          "output_type": "stream",
          "name": "stdout",
          "text": [
            "intra.h\n",
            "define.h\n"
          ]
        }
      ]
    },
    {
      "cell_type": "code",
      "source": [
        "# 160\n",
        "리스트 = ['intra.h', 'intra.c', 'define.h', 'run.py']\n",
        "for i in 리스트:\n",
        "  a=i.split('.')\n",
        "  if a[1]=='h'or a[1]=='c':\n",
        "    print(i)"
      ],
      "metadata": {
        "colab": {
          "base_uri": "https://localhost:8080/"
        },
        "id": "uerhUumxtlg9",
        "outputId": "27850239-5eef-49ac-e33d-09813441e06d"
      },
      "execution_count": 89,
      "outputs": [
        {
          "output_type": "stream",
          "name": "stdout",
          "text": [
            "intra.h\n",
            "intra.c\n",
            "define.h\n"
          ]
        }
      ]
    }
  ]
}