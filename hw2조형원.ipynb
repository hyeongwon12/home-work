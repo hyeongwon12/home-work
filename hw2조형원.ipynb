{
  "nbformat": 4,
  "nbformat_minor": 0,
  "metadata": {
    "colab": {
      "name": "hw2조형원.ipynb",
      "provenance": [],
      "authorship_tag": "ABX9TyOCY0PltMlXWwWn5g7G/fiZ",
      "include_colab_link": true
    },
    "kernelspec": {
      "name": "python3",
      "display_name": "Python 3"
    },
    "language_info": {
      "name": "python"
    }
  },
  "cells": [
    {
      "cell_type": "markdown",
      "metadata": {
        "id": "view-in-github",
        "colab_type": "text"
      },
      "source": [
        "<a href=\"https://colab.research.google.com/github/hyeongwon12/home-work/blob/main/hw2%EC%A1%B0%ED%98%95%EC%9B%90.ipynb\" target=\"_parent\"><img src=\"https://colab.research.google.com/assets/colab-badge.svg\" alt=\"Open In Colab\"/></a>"
      ]
    },
    {
      "cell_type": "code",
      "execution_count": 74,
      "metadata": {
        "colab": {
          "base_uri": "https://localhost:8080/"
        },
        "id": "6yNpI4HNTDNN",
        "outputId": "af593b66-11cd-4811-e162-a35eb43c83f2"
      },
      "outputs": [
        {
          "output_type": "stream",
          "name": "stdout",
          "text": [
            "['닥터 스트레인지', '스플릿', '럭키']\n"
          ]
        }
      ],
      "source": [
        "# 051\n",
        "movie_rank = ['닥터 스트레인지', '스플릿', '럭키']\n",
        "\n",
        "print(movie_rank)"
      ]
    },
    {
      "cell_type": "code",
      "source": [
        "# 052\n",
        "movie_rank = ['닥터 스트레인지', '스플릿', '럭키']\n",
        "movie_rank.append('배트맨')\n",
        "print(movie_rank)"
      ],
      "metadata": {
        "colab": {
          "base_uri": "https://localhost:8080/"
        },
        "id": "9wJVbzzoTZ-k",
        "outputId": "0f283668-338d-4f13-941e-d8e828052b2b"
      },
      "execution_count": 75,
      "outputs": [
        {
          "output_type": "stream",
          "name": "stdout",
          "text": [
            "['닥터 스트레인지', '스플릿', '럭키', '배트맨']\n"
          ]
        }
      ]
    },
    {
      "cell_type": "code",
      "source": [
        "# 053\n",
        "movie_rank = ['닥터 스트레인지', '스플릿', '럭키', '배트맨']\n",
        "movie_rank.insert(1,'슈퍼맨')\n",
        "print(movie_rank)"
      ],
      "metadata": {
        "colab": {
          "base_uri": "https://localhost:8080/"
        },
        "id": "O_KSnc9FUcRX",
        "outputId": "a2006ec3-c82a-42f3-d0cb-725571929df8"
      },
      "execution_count": 76,
      "outputs": [
        {
          "output_type": "stream",
          "name": "stdout",
          "text": [
            "['닥터 스트레인지', '슈퍼맨', '스플릿', '럭키', '배트맨']\n"
          ]
        }
      ]
    },
    {
      "cell_type": "code",
      "source": [
        "# 054\n",
        "movie_rank = ['닥터 스트레인지', '슈퍼맨', '스플릿', '럭키', '배트맨']\n",
        "movie_rank.pop(3)\n",
        "print(movie_rank)"
      ],
      "metadata": {
        "colab": {
          "base_uri": "https://localhost:8080/"
        },
        "id": "76_iOx47TlbI",
        "outputId": "d088995c-d6a9-4efe-e662-9700d19b1240"
      },
      "execution_count": 77,
      "outputs": [
        {
          "output_type": "stream",
          "name": "stdout",
          "text": [
            "['닥터 스트레인지', '슈퍼맨', '스플릿', '배트맨']\n"
          ]
        }
      ]
    },
    {
      "cell_type": "code",
      "source": [
        "# 055\n",
        "movie_rank = ['닥터 스트레인지', '슈퍼맨', '스플릿', '배트맨']\n",
        "movie_rank.pop(2)\n",
        "movie_rank.pop(2)\n",
        "print(movie_rank)"
      ],
      "metadata": {
        "colab": {
          "base_uri": "https://localhost:8080/"
        },
        "id": "RTLRxACfW_oB",
        "outputId": "de2e5c94-6689-4211-ba95-ae453590bc60"
      },
      "execution_count": 78,
      "outputs": [
        {
          "output_type": "stream",
          "name": "stdout",
          "text": [
            "['닥터 스트레인지', '슈퍼맨']\n"
          ]
        }
      ]
    },
    {
      "cell_type": "code",
      "source": [
        "# 056\n",
        "lang1 = [\"C\", \"C++\", \"JAVA\"]\n",
        "lang2 = [\"Python\", \"Go\", \"C#\"]\n",
        "langs = lang1 + lang2 \n",
        "print(langs)"
      ],
      "metadata": {
        "colab": {
          "base_uri": "https://localhost:8080/"
        },
        "id": "YtzWcbQCaOTP",
        "outputId": "9d6fce79-4e58-4e34-a278-2eebfc9dc3b2"
      },
      "execution_count": 79,
      "outputs": [
        {
          "output_type": "stream",
          "name": "stdout",
          "text": [
            "['C', 'C++', 'JAVA', 'Python', 'Go', 'C#']\n"
          ]
        }
      ]
    },
    {
      "cell_type": "code",
      "source": [
        "# 057\n",
        "nums = [1, 2, 3, 4, 5, 6, 7]\n",
        "print(f'max: {max(nums)}')\n",
        "print(f'min: {min(nums)}')"
      ],
      "metadata": {
        "colab": {
          "base_uri": "https://localhost:8080/"
        },
        "id": "6_Jsf_5AdKLx",
        "outputId": "5e433ef8-76aa-4a45-97b2-612b968e86c3"
      },
      "execution_count": 80,
      "outputs": [
        {
          "output_type": "stream",
          "name": "stdout",
          "text": [
            "max: 7\n",
            "min: 1\n"
          ]
        }
      ]
    },
    {
      "cell_type": "code",
      "source": [
        "# 058\n",
        "nums = [1, 2, 3, 4, 5]\n",
        "\n",
        "print(nums[0]+nums[1]+nums[2]+nums[3]+nums[4])"
      ],
      "metadata": {
        "colab": {
          "base_uri": "https://localhost:8080/"
        },
        "id": "LEkLOCR7eT0X",
        "outputId": "902b2047-d1af-47d7-c28d-677f6793eed3"
      },
      "execution_count": 81,
      "outputs": [
        {
          "output_type": "stream",
          "name": "stdout",
          "text": [
            "15\n"
          ]
        }
      ]
    },
    {
      "cell_type": "code",
      "source": [
        "nums = [1, 2, 3, 4, 5]\n",
        "def sum(nums):\n",
        "  sum = 0\n",
        "  for n in nums:\n",
        "    sum = sum + n\n",
        "  return sum\n",
        "print(sum(nums))"
      ],
      "metadata": {
        "colab": {
          "base_uri": "https://localhost:8080/"
        },
        "id": "DBNcnR3efXKL",
        "outputId": "5faeaccf-ffac-438f-adaf-df43dd8f04ad"
      },
      "execution_count": 82,
      "outputs": [
        {
          "output_type": "stream",
          "name": "stdout",
          "text": [
            "15\n"
          ]
        }
      ]
    },
    {
      "cell_type": "code",
      "source": [
        "# 059\n",
        "cook = [\"피자\", \"김밥\", \"만두\", \"양념치킨\", \"족발\", \"피자\", \"김치만두\",\n",
        "\"쫄면\", \"쏘세지\", \"라면\", \"팥빙수\", \"김치전\"]\n",
        "len(cook)"
      ],
      "metadata": {
        "colab": {
          "base_uri": "https://localhost:8080/"
        },
        "id": "HLbvSm9meD06",
        "outputId": "de79b04f-4480-4f82-c113-a7f97035d746"
      },
      "execution_count": 64,
      "outputs": [
        {
          "output_type": "execute_result",
          "data": {
            "text/plain": [
              "12"
            ]
          },
          "metadata": {},
          "execution_count": 64
        }
      ]
    },
    {
      "cell_type": "code",
      "source": [
        "# 060\n",
        "nums = [1, 2, 3, 4, 5]\n",
        "a = (nums[0]+nums[1]+nums[2]+nums[3]+nums[4])\n",
        "\n",
        "print(a/len(nums))\n",
        "\n",
        "\n",
        "nums = [1, 2, 3, 4, 5]\n",
        "def sum(nums):\n",
        "  sum = 0\n",
        "  for n in nums:\n",
        "    sum = sum + n\n",
        "  return sum\n",
        "print(sum(nums)/len(nums))\n",
        "\n"
      ],
      "metadata": {
        "colab": {
          "base_uri": "https://localhost:8080/"
        },
        "id": "4zqc86CboToR",
        "outputId": "78d2459b-eadf-4494-a38f-ee7912d9951f"
      },
      "execution_count": 73,
      "outputs": [
        {
          "output_type": "stream",
          "name": "stdout",
          "text": [
            "3.0\n",
            "3.0\n"
          ]
        }
      ]
    }
  ]
}