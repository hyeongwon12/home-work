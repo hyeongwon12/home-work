{
  "nbformat": 4,
  "nbformat_minor": 0,
  "metadata": {
    "colab": {
      "name": "hw5조형원.ipynb",
      "provenance": [],
      "collapsed_sections": [],
      "authorship_tag": "ABX9TyOwbkyX0w7VsxOnOr3Jmp3t",
      "include_colab_link": true
    },
    "kernelspec": {
      "name": "python3",
      "display_name": "Python 3"
    },
    "language_info": {
      "name": "python"
    }
  },
  "cells": [
    {
      "cell_type": "markdown",
      "metadata": {
        "id": "view-in-github",
        "colab_type": "text"
      },
      "source": [
        "<a href=\"https://colab.research.google.com/github/hyeongwon12/home-work/blob/main/hw5%EC%A1%B0%ED%98%95%EC%9B%90.ipynb\" target=\"_parent\"><img src=\"https://colab.research.google.com/assets/colab-badge.svg\" alt=\"Open In Colab\"/></a>"
      ]
    },
    {
      "cell_type": "code",
      "execution_count": 14,
      "metadata": {
        "colab": {
          "base_uri": "https://localhost:8080/"
        },
        "id": "oRwXE9l5optn",
        "outputId": "616e6cb7-803e-4f6b-9444-aae365ae74e2"
      },
      "outputs": [
        {
          "output_type": "stream",
          "name": "stdout",
          "text": [
            "문자를 입력하세요>>>a\n",
            "A\n"
          ]
        }
      ],
      "source": [
        "# 121\n",
        "word = input(\"문자를 입력하세요>>>\")\n",
        "\n",
        "wordup = word.upper()\n",
        "wordlo = word.lower()\n",
        "\n",
        "if True == wordup:\n",
        "  print(wordlo)\n",
        "else:\n",
        "  print(wordup)\n",
        "\n"
      ]
    },
    {
      "cell_type": "code",
      "source": [
        "# 122\n",
        "score = int(input(\"score: \"))\n",
        "\n",
        "if score >=81 :\n",
        "   result = \"A\"\n",
        "elif score >=61:\n",
        "   result = \"B\"\n",
        "elif score >=41:\n",
        "  result = \"C\"\n",
        "elif score >=21:\n",
        "   result = \"D\"\n",
        "else:\n",
        "   result = \"F\"\n",
        "print(f'grade is {result}')\n"
      ],
      "metadata": {
        "colab": {
          "base_uri": "https://localhost:8080/"
        },
        "id": "EGDQdy9_u9Uu",
        "outputId": "f7d5a6fc-b5cd-4731-f3ed-ca56c5667357"
      },
      "execution_count": 19,
      "outputs": [
        {
          "output_type": "stream",
          "name": "stdout",
          "text": [
            "score: 21\n",
            "grade is D\n"
          ]
        }
      ]
    },
    {
      "cell_type": "code",
      "source": [
        "# 123 \n",
        "a,b= input(\"입력 : \").split()\n",
        "currency = {'달러':1167, '엔':1.096, '유로':1268, '위안':171 }\n",
        "result = int(a)*currency[b]\n",
        "print(f\"{result} 원\")"
      ],
      "metadata": {
        "colab": {
          "base_uri": "https://localhost:8080/"
        },
        "id": "AkIoCer7wfTH",
        "outputId": "53e8b541-73f3-4544-9774-3bc1c624417a"
      },
      "execution_count": 34,
      "outputs": [
        {
          "output_type": "stream",
          "name": "stdout",
          "text": [
            "입력 : 1234 유로\n",
            "1564712 원\n"
          ]
        }
      ]
    },
    {
      "cell_type": "code",
      "source": [
        "# 124\n",
        "a = int(input('number1:' )) \n",
        "b = int(input('number2:' )) \n",
        "c = int(input('number3:' ))\n",
        "list = [a,b,c]\n",
        "print(max(list))"
      ],
      "metadata": {
        "colab": {
          "base_uri": "https://localhost:8080/"
        },
        "id": "nxNSKXny7k5k",
        "outputId": "81d37e9b-4003-4fd2-ad32-3182ae7a2df2"
      },
      "execution_count": 38,
      "outputs": [
        {
          "output_type": "stream",
          "name": "stdout",
          "text": [
            "number1:10\n",
            "number2:10\n",
            "number3:20\n",
            "20\n"
          ]
        }
      ]
    },
    {
      "cell_type": "code",
      "source": [
        "# 125\n",
        "num = input(\"휴대전화 번호 입력: \")\n",
        "a = num[0:3]\n",
        "b = {'011':'SKT','016':'KT', '019':'LGU', '010':'알수없음'}\n",
        "result = b[a]\n",
        "print(f'당신은 {result} 사용자입니다.')"
      ],
      "metadata": {
        "colab": {
          "base_uri": "https://localhost:8080/"
        },
        "id": "vwTMYyDtAU_6",
        "outputId": "847ab8fe-b558-44d1-f42e-da6e40a7fec7"
      },
      "execution_count": 60,
      "outputs": [
        {
          "output_type": "stream",
          "name": "stdout",
          "text": [
            "휴대전화 번호 입력: 011-1234-5678\n",
            "당신은 SKT 사용자입니다.\n"
          ]
        }
      ]
    },
    {
      "cell_type": "code",
      "source": [
        "# 126\n",
        "zip = (input('우편번호: '))\n",
        "a = int(zip[0:3])\n",
        "if a <= 12 and a >9:\n",
        " result = '강북구'\n",
        "elif a<=15 and a >12:\n",
        "  result = '도봉구'\n",
        "elif a<20:\n",
        "   result = '노원구'\n",
        "elif len(zip) != 6:\n",
        "  result = '잘못된 범위'\n",
        "else:\n",
        "  result = '다시입력하시오'\n",
        "print(result)"
      ],
      "metadata": {
        "colab": {
          "base_uri": "https://localhost:8080/"
        },
        "id": "yAvH1nAkCVEx",
        "outputId": "7797ee7c-bd04-490d-c435-a41be81b3166"
      },
      "execution_count": 74,
      "outputs": [
        {
          "output_type": "stream",
          "name": "stdout",
          "text": [
            "우편번호: 123\n",
            "잘못된 값\n"
          ]
        }
      ]
    },
    {
      "cell_type": "code",
      "source": [
        "# 127\n",
        "id = input('주민등록번호: ')\n",
        "sex =int(id[7])\n",
        "if sex>4:\n",
        "  result = '잘못된값' \n",
        "elif sex%2 == 0:\n",
        "  result ='여자'\n",
        "else :\n",
        "  result='남자'\n",
        "print(result)"
      ],
      "metadata": {
        "colab": {
          "base_uri": "https://localhost:8080/"
        },
        "id": "WTmKFkDoF_L8",
        "outputId": "123af7f6-d998-4b4b-9fcd-54eed4c0e084"
      },
      "execution_count": 87,
      "outputs": [
        {
          "output_type": "stream",
          "name": "stdout",
          "text": [
            "주민등록번호: 123456-1234567\n",
            "남자\n"
          ]
        }
      ]
    },
    {
      "cell_type": "code",
      "source": [
        "# 128\n",
        "id = input('주민등록번호: ') \n",
        "code =int(id[8:10])\n",
        "if code <9:\n",
        "  print('서울 입니다.')\n",
        "else:\n",
        "  print('서울이 아닙니다.')"
      ],
      "metadata": {
        "colab": {
          "base_uri": "https://localhost:8080/"
        },
        "id": "0oYVRElQKZ6J",
        "outputId": "1cafe627-7808-439d-dd27-743838942324"
      },
      "execution_count": 88,
      "outputs": [
        {
          "output_type": "stream",
          "name": "stdout",
          "text": [
            "주민등록번호: 123456-1234567\n",
            "서울이 아닙니다.\n"
          ]
        }
      ]
    },
    {
      "cell_type": "code",
      "source": [
        "# 129\n",
        "id = input(\"주민등록번호를 입력하세요: \")\n",
        "result = int(id[0])*2 + int(id[1])*3 + int(id[2])*4 + int(id[3])*5 + int(id[4])*6 + int(id[5])*7 + int(id[7])*8 + int(id[8])*9 + int(id[9])*2 + int(id[10])*3 +int(id[11])*4 +int(id[12])*5\n",
        "if (11-(result%11)) == int(id[13]):\n",
        " print('유효한 주민등록번호 입니다.')\n",
        "else:\n",
        " print('유효하지 않은 주민등록번호 입니다.')"
      ],
      "metadata": {
        "id": "SlCzIz1DLzVt"
      },
      "execution_count": null,
      "outputs": []
    },
    {
      "cell_type": "code",
      "source": [
        "id = input(\"주민등록번호를 입력하세요: \").replace(\"-\",\"\")\n",
        "total = 0\n",
        "for i in range(12):\n",
        "  total += int(id[i])*(i+2 if i < 8 else i-6)\n",
        "if int(id[12])-total%11== 0:\n",
        "  print('유효한 주민등록번호 입니다.')\n",
        "else:\n",
        " print('유효하지 않은 주민등록번호 입니다.')\n"
      ],
      "metadata": {
        "colab": {
          "base_uri": "https://localhost:8080/"
        },
        "id": "QgsBif1mPwd9",
        "outputId": "ce289ca5-14cb-4f6c-95fb-ff4b8bbfe6bd"
      },
      "execution_count": 110,
      "outputs": [
        {
          "output_type": "stream",
          "name": "stdout",
          "text": [
            "주민등록번호를 입력하세요: 961228-1171338\n",
            "유효하지 않은 주민등록번호 입니다.\n"
          ]
        }
      ]
    },
    {
      "cell_type": "code",
      "source": [
        "id = input(\"주민등록번호를 입력하세요: \").replace(\"-\",\"\")\n",
        "total = 0\n",
        "for i in range(12):\n",
        "  total += int(id[i])*(i+2 if i < 8 else i-6)\n",
        "if 11-total%11== int(id[12]):\n",
        "  print('유효한 주민등록번호 입니다.')\n",
        "else:\n",
        " print('유효하지 않은 주민등록번호 입니다.')"
      ],
      "metadata": {
        "colab": {
          "base_uri": "https://localhost:8080/"
        },
        "id": "zaKb8kBrbJpX",
        "outputId": "d892e9ee-bfce-4f1a-bb18-68598542c003"
      },
      "execution_count": 113,
      "outputs": [
        {
          "output_type": "stream",
          "name": "stdout",
          "text": [
            "주민등록번호를 입력하세요: 961228-1171338\n",
            "유효한 주민등록번호 입니다.\n"
          ]
        }
      ]
    },
    {
      "cell_type": "code",
      "source": [
        "# 130"
      ],
      "metadata": {
        "id": "mriwUIBbLzb1"
      },
      "execution_count": null,
      "outputs": []
    }
  ]
}