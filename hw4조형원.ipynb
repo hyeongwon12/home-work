{
  "nbformat": 4,
  "nbformat_minor": 0,
  "metadata": {
    "colab": {
      "name": "hw4조형원.ipynb",
      "provenance": [],
      "collapsed_sections": [],
      "authorship_tag": "ABX9TyNaut6k/GgDn8AiGp5NZ7KI",
      "include_colab_link": true
    },
    "kernelspec": {
      "name": "python3",
      "display_name": "Python 3"
    },
    "language_info": {
      "name": "python"
    }
  },
  "cells": [
    {
      "cell_type": "markdown",
      "metadata": {
        "id": "view-in-github",
        "colab_type": "text"
      },
      "source": [
        "<a href=\"https://colab.research.google.com/github/hyeongwon12/home-work/blob/main/hw4%EC%A1%B0%ED%98%95%EC%9B%90.ipynb\" target=\"_parent\"><img src=\"https://colab.research.google.com/assets/colab-badge.svg\" alt=\"Open In Colab\"/></a>"
      ]
    },
    {
      "cell_type": "code",
      "execution_count": null,
      "metadata": {
        "id": "wqCAEhdZLOBL"
      },
      "outputs": [],
      "source": [
        "# 211\n",
        "def 함수(문자열) :\n",
        "    print(문자열)\n",
        "\n",
        "함수(\"안녕\")\n",
        "함수(\"Hi\")\n",
        "\n",
        "안녕\n",
        "Hi"
      ]
    },
    {
      "cell_type": "code",
      "source": [
        "# 212\n",
        "def 함수(a, b) :\n",
        " print(a + b)\n",
        "함수(3, 4)\n",
        "함수(7, 8)\n",
        "7\n",
        "15"
      ],
      "metadata": {
        "id": "lcS_IAZSLtCH"
      },
      "execution_count": null,
      "outputs": []
    },
    {
      "cell_type": "code",
      "source": [
        "# 213\n",
        "def 함수(문자열) :\n",
        " print(문자열)\n",
        "함수()\n",
        "TypeError: 함수() missing 1 required positional argument: '문자열'\n",
        "매개변수를 넣지않음"
      ],
      "metadata": {
        "id": "STSLsCuSLydj"
      },
      "execution_count": null,
      "outputs": []
    },
    {
      "cell_type": "code",
      "source": [
        "# 214\n",
        "def 함수(a, b) :\n",
        " print(a + b)\n",
        "함수(\"안녕\", 3)\n",
        "TypeError: must be str, not int\n",
        "입력된 값의 타입이서로 같아야함"
      ],
      "metadata": {
        "id": "ubcYiTKGL6-z"
      },
      "execution_count": null,
      "outputs": []
    },
    {
      "cell_type": "code",
      "source": [
        "# 215\n",
        "def print_with_smile(i):\n",
        "  \n",
        "  print(i+':D')\n",
        "print_with_smile('asd')"
      ],
      "metadata": {
        "colab": {
          "base_uri": "https://localhost:8080/"
        },
        "id": "nn8cDhjqMEHL",
        "outputId": "8cceaeb3-7986-46fd-a97a-87efd2635e67"
      },
      "execution_count": null,
      "outputs": [
        {
          "output_type": "stream",
          "name": "stdout",
          "text": [
            "asd:D\n"
          ]
        }
      ]
    },
    {
      "cell_type": "code",
      "source": [
        "# 216\n",
        "def print_with_smile(i):\n",
        "  \n",
        "  print(i+':D')\n",
        "print_with_smile('안녕하세요')"
      ],
      "metadata": {
        "id": "Ddpnhf_KMOPS"
      },
      "execution_count": null,
      "outputs": []
    },
    {
      "cell_type": "code",
      "source": [
        "# 217\n",
        "def  print_upper_price(num):\n",
        "  print(num*1.3)"
      ],
      "metadata": {
        "id": "0gQrV2c1Mdxv"
      },
      "execution_count": null,
      "outputs": []
    },
    {
      "cell_type": "code",
      "source": [
        "# 218\n",
        "def print_sum(a,b):\n",
        "  print(a+b)"
      ],
      "metadata": {
        "id": "WAHQ0NDlMxbf"
      },
      "execution_count": null,
      "outputs": []
    },
    {
      "cell_type": "code",
      "source": [
        "# 219\n",
        "def print_arithmetic_operation(a,b):\n",
        "  print(a,'+',b,'=',(a+b))\n",
        "  print(a,'-',b,'=',(a-b))\n",
        "  print(a,'*',b,'=',(a*b))\n",
        "  print(a,'/',b,'=',(a/b))\n",
        "print_arithmetic_operation(1,2)"
      ],
      "metadata": {
        "colab": {
          "base_uri": "https://localhost:8080/"
        },
        "id": "Vp0A80ROM3Q4",
        "outputId": "9cbbb91c-03db-492d-d4e7-e246afa340a8"
      },
      "execution_count": null,
      "outputs": [
        {
          "output_type": "stream",
          "name": "stdout",
          "text": [
            "1 + 2 = 3\n",
            "1 - 2 = -1\n",
            "1 * 2 = 2\n",
            "1 / 2 = 0.5\n"
          ]
        }
      ]
    },
    {
      "cell_type": "code",
      "source": [
        "# 220\n",
        "def print_max(a,b,c):\n",
        " if a>b and a>c:\n",
        "   print(a)\n",
        " elif b>a and b>c:\n",
        "   print(b)\n",
        " else:\n",
        "   print(c)\n",
        "print_max(2,4,4)"
      ],
      "metadata": {
        "colab": {
          "base_uri": "https://localhost:8080/"
        },
        "id": "it5hAOAmOf6g",
        "outputId": "8598b667-7b6e-4a3e-a1af-aa5091857f41"
      },
      "execution_count": null,
      "outputs": [
        {
          "output_type": "stream",
          "name": "stdout",
          "text": [
            "4\n"
          ]
        }
      ]
    },
    {
      "cell_type": "code",
      "source": [
        "# 221\n",
        "def print_reverse(a):\n",
        "  print(a[::-1])\n",
        "print_reverse('python')"
      ],
      "metadata": {
        "colab": {
          "base_uri": "https://localhost:8080/"
        },
        "id": "veNBucstQLii",
        "outputId": "45f9f95a-7995-4130-f791-3b3956bf0964"
      },
      "execution_count": null,
      "outputs": [
        {
          "output_type": "stream",
          "name": "stdout",
          "text": [
            "nohtyp\n"
          ]
        }
      ]
    },
    {
      "cell_type": "code",
      "source": [
        "# 222\n",
        "score = ([1, 2, 3])\n",
        "def print_score(a):\n",
        "  print(sum(a)/len(a))\n",
        "print_score(score)\n"
      ],
      "metadata": {
        "colab": {
          "base_uri": "https://localhost:8080/"
        },
        "id": "xSB6x5UQQcYs",
        "outputId": "021dfbc2-33cb-4fa5-ab2d-2134cd95952c"
      },
      "execution_count": null,
      "outputs": [
        {
          "output_type": "stream",
          "name": "stdout",
          "text": [
            "2.0\n"
          ]
        }
      ]
    },
    {
      "cell_type": "code",
      "source": [
        "# 223\n",
        "num = [1, 3, 2, 10, 12, 11, 15]\n",
        "def print_even(a):\n",
        "  for i in a:\n",
        "   if i%2==0:\n",
        "    print(i)\n",
        "print_even(num)"
      ],
      "metadata": {
        "colab": {
          "base_uri": "https://localhost:8080/"
        },
        "id": "afPXwT-aQzN9",
        "outputId": "4e3b4726-260b-4e9c-f35b-ade93a4e156d"
      },
      "execution_count": null,
      "outputs": [
        {
          "output_type": "stream",
          "name": "stdout",
          "text": [
            "2\n",
            "10\n",
            "12\n"
          ]
        }
      ]
    },
    {
      "cell_type": "code",
      "source": [
        "# 224\n",
        "dic = ({\"이름\":\"김말똥\", \"나이\":30, \"성별\":0})\n",
        "def  print_keys(i):\n",
        "  for a in i.keys():\n",
        "   print(a)\n",
        "print_keys(dic)"
      ],
      "metadata": {
        "colab": {
          "base_uri": "https://localhost:8080/"
        },
        "id": "f4_5Fjx9RnZq",
        "outputId": "a5f3fdaf-82c7-4155-87e4-8c30a55dea79"
      },
      "execution_count": null,
      "outputs": [
        {
          "output_type": "stream",
          "name": "stdout",
          "text": [
            "이름\n",
            "나이\n",
            "성별\n"
          ]
        }
      ]
    },
    {
      "cell_type": "code",
      "source": [
        "# 225\n",
        "my_dict = {\"10/26\" : [100, 130, 100, 100],\n",
        " \"10/27\" : [10, 12, 10, 11]}\n",
        "def print_value_by_key(a,i):\n",
        "    print(a[i])\n",
        " \n",
        "print_value_by_key(my_dict, \"10/26\")\n"
      ],
      "metadata": {
        "colab": {
          "base_uri": "https://localhost:8080/"
        },
        "id": "e31uPCWkSgwO",
        "outputId": "861fcf25-b286-483b-f5db-0769b28e9ca4"
      },
      "execution_count": null,
      "outputs": [
        {
          "output_type": "stream",
          "name": "stdout",
          "text": [
            "[100, 130, 100, 100]\n"
          ]
        }
      ]
    },
    {
      "cell_type": "code",
      "source": [
        "# 226\n",
        "#입력 문자열을 한 줄에 다섯글자씩 출력하는 print_5xn(string) 함수를 작성하라.\n",
        "string=(\"아이엠어보이유알어걸asdasdasdss\")\n",
        "\n",
        "def print_5xn(b):\n",
        "  a = int(len(b)/5)\n",
        "  for i in range(a+1):\n",
        "    print(b[i*5:i*5+5])\n",
        "print_5xn(string)\n",
        "    "
      ],
      "metadata": {
        "colab": {
          "base_uri": "https://localhost:8080/"
        },
        "id": "ML6BEhQbTQOz",
        "outputId": "aa11fce5-b733-46d8-e075-268463bef202"
      },
      "execution_count": null,
      "outputs": [
        {
          "output_type": "stream",
          "name": "stdout",
          "text": [
            "아이엠어보\n",
            "이유알어걸\n",
            "asdas\n",
            "dasds\n",
            "s\n"
          ]
        }
      ]
    },
    {
      "cell_type": "code",
      "source": [
        "# 227\n",
        "def printmxn(b,c):\n",
        "\n",
        "  a = int(len(b)/3)\n",
        "  for i in range(a+1):\n",
        "    print(b[i*3:i*3+3])\n",
        "printmxn(\"adssadasdasdasdasdasdasadasd\",3)\n",
        "    "
      ],
      "metadata": {
        "colab": {
          "base_uri": "https://localhost:8080/"
        },
        "id": "EkJ45OySV1CG",
        "outputId": "af4cad4a-eee5-4226-96db-7a4c10a14535"
      },
      "execution_count": null,
      "outputs": [
        {
          "output_type": "stream",
          "name": "stdout",
          "text": [
            "ads\n",
            "sad\n",
            "asd\n",
            "asd\n",
            "asd\n",
            "asd\n",
            "asd\n",
            "asa\n",
            "das\n",
            "d\n"
          ]
        }
      ]
    },
    {
      "cell_type": "code",
      "source": [
        "# 228\n",
        "def  calc_monthly_salary(a):\n",
        "  print(int(a/12))\n",
        "calc_monthly_salary(12000000)"
      ],
      "metadata": {
        "colab": {
          "base_uri": "https://localhost:8080/"
        },
        "id": "_VNbNQ2FX-3D",
        "outputId": "fbeb9586-5b78-4ee0-d721-d02023701923"
      },
      "execution_count": null,
      "outputs": [
        {
          "output_type": "stream",
          "name": "stdout",
          "text": [
            "1000000\n"
          ]
        }
      ]
    },
    {
      "cell_type": "code",
      "source": [
        "# 229\n",
        "def my_print (a, b) :\n",
        " print(\"왼쪽:\", a)\n",
        " print(\"오른쪽:\", b)\n",
        "my_print(a=100, b=200)\n",
        "#왼쪽: a=100\n",
        "#오른쪽: b=200\n"
      ],
      "metadata": {
        "id": "_A59G266Y149"
      },
      "execution_count": null,
      "outputs": []
    },
    {
      "cell_type": "code",
      "source": [
        "# 230\n",
        "def my_print (a, b) :\n",
        " print(\"왼쪽:\", a)\n",
        " print(\"오른쪽:\", b)\n",
        "my_print(b=100, a=200)"
      ],
      "metadata": {
        "colab": {
          "base_uri": "https://localhost:8080/"
        },
        "id": "ED1MQK1DZWT4",
        "outputId": "597cdbf7-68fc-4727-bce0-c3a9ea13035b"
      },
      "execution_count": null,
      "outputs": [
        {
          "output_type": "stream",
          "name": "stdout",
          "text": [
            "왼쪽: 200\n",
            "오른쪽: 100\n"
          ]
        }
      ]
    }
  ]
}